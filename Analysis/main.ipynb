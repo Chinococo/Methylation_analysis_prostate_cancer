{
 "cells": [
  {
   "cell_type": "markdown",
   "metadata": {},
   "source": [
    "### 載入依賴"
   ]
  },
  {
   "cell_type": "code",
   "execution_count": null,
   "metadata": {},
   "outputs": [],
   "source": [
    "from configparser import ConfigParser\n",
    "import pandas as pd\n",
    "import numpy as np\n",
    "\n",
    "from Models.DeltaBetaFilter import DeltaBetaFilter\n",
    "from Models.CutpointCalculator import CutpointCalculator\n",
    "from Models.GeneFilter import GeneFilter\n",
    "from Models.AucCalculator import AucCalculator\n",
    "from Models.GosemsimCalculator import GosemsimCalculator\n",
    "from Models.CancerStageCalculator import CancerStageCalculator\n",
    "\n",
    "from MakeFile.FileSaver import FileSaver\n",
    "from ValidateModel.ValidateData import ValidateData"
   ]
  },
  {
   "cell_type": "markdown",
   "metadata": {},
   "source": [
    "### 載入設定檔"
   ]
  },
  {
   "cell_type": "code",
   "execution_count": null,
   "metadata": {},
   "outputs": [],
   "source": [
    "_configPath = \"Analysis/config.ini\"\n",
    "_config = ConfigParser()\n",
    "_config.read(_configPath)"
   ]
  },
  {
   "cell_type": "markdown",
   "metadata": {},
   "source": [
    "### 參數"
   ]
  },
  {
   "cell_type": "code",
   "execution_count": null,
   "metadata": {},
   "outputs": [],
   "source": [
    "# 載入資料\n",
    "NORMAL_NUM = 50\n",
    "VALIDATE_NORMAL_NUM = 20\n",
    "_hyperThreshold = 0.368\n",
    "_hypoThreshold = -0.238\n",
    "_pValueThreshold = -np.log10(0.05)"
   ]
  },
  {
   "cell_type": "markdown",
   "metadata": {},
   "source": [
    "### 載入資料"
   ]
  },
  {
   "cell_type": "code",
   "execution_count": null,
   "metadata": {},
   "outputs": [],
   "source": [
    "# 原始beta資料\n",
    "_betaDataDf = pd.read_csv(_config[\"Data\"][\"BETA_DATA_PATH\"])\n",
    "_betaDataDf.columns.values[0] = \"CpG\"\n",
    "# 預篩選DMP資料\n",
    "_dmpDataDf = pd.read_csv(_config[\"Data\"][\"DMP_DATA_PATH\"]) \n",
    "_dmpDataDf.columns.values[0] = \"CpG\"\n",
    "# 標註CpG行\n",
    "_betaValidateDataDf = pd.read_csv(_config[\"Data\"][\"VALIDATE_DATA_PATH\"])\n",
    "_betaValidateDataDf.columns.values[0] = \"CpG\"\n",
    "\n",
    "# gene相似度矩陣\n",
    "_gosemsimDf = pd.read_csv(_config[\"Data\"][\"GOSEMSIM_MF_HYPER_PATH\"], index_col = 0)\n",
    "\n",
    "# 共病基因資料\n",
    "with open(_config[\"Data\"][\"GROUP_COMORBIDITY_PATH\"], 'r') as file:\n",
    "    _lines = file.readlines()\n",
    "_groupComorbidityList = [line.strip() for line in _lines]"
   ]
  },
  {
   "cell_type": "markdown",
   "metadata": {},
   "source": [
    "### Dbate Analyze"
   ]
  },
  {
   "cell_type": "code",
   "execution_count": null,
   "metadata": {},
   "outputs": [],
   "source": [
    "_deltaBetaFilter = DeltaBetaFilter()\n",
    "# 計算dbeta\n",
    "_dbetaDf = _deltaBetaFilter.CalculateDeltaBeta(_betaDataDf, NORMAL_NUM)\n",
    "# 篩選dbeta\n",
    "_dbetaDf = _deltaBetaFilter.FilterDeltaBeta(_dbetaDf, _dmpDataDf, onlyPromoter = True)\n",
    "# 分hyper,hypo\n",
    "_hyperDf, _hypoDf = _deltaBetaFilter.DetermineDNAm(_dmpDataDf, _hyperThreshold, _hypoThreshold, _pValueThreshold)"
   ]
  },
  {
   "cell_type": "markdown",
   "metadata": {},
   "source": [
    "### Calculate Cutpoint"
   ]
  },
  {
   "cell_type": "code",
   "execution_count": null,
   "metadata": {},
   "outputs": [],
   "source": [
    "\n",
    "_validateData = ValidateData()\n",
    "_cutpointCalculator = CutpointCalculator()\n",
    "# 計算切點\n",
    "_cutpointDf = _cutpointCalculator.CalculateCutpoint(_betaDataDf, [_hyperDf, _hypoDf], NORMAL_NUM, [\"hyper\", \"hypo\"], \"CpG\", \"mid\")\n",
    "# 驗證切點\n",
    "_cutpointDf = _validateData.ValidateCutpoint(_cutpointDf, _betaValidateDataDf, VALIDATE_NORMAL_NUM)"
   ]
  },
  {
   "cell_type": "markdown",
   "metadata": {},
   "source": [
    "### Comorbidity Gene Filter"
   ]
  },
  {
   "cell_type": "code",
   "execution_count": null,
   "metadata": {},
   "outputs": [],
   "source": [
    "_geneFilter = GeneFilter()\n",
    "# 與共病基因交集\n",
    "_groupDf = _geneFilter.IntersectData(_cutpointDf, _groupComorbidityList, \"gene\")"
   ]
  },
  {
   "cell_type": "markdown",
   "metadata": {},
   "source": [
    "### Calculate Auc"
   ]
  },
  {
   "cell_type": "code",
   "execution_count": null,
   "metadata": {},
   "outputs": [],
   "source": [
    "_aucCalculator = AucCalculator()\n",
    "# 計算AUC\n",
    "_aucDf = _aucCalculator.CalculateAuc(_betaDataDf, _groupDf, NORMAL_NUM)"
   ]
  },
  {
   "cell_type": "markdown",
   "metadata": {},
   "source": []
  },
  {
   "cell_type": "code",
   "execution_count": null,
   "metadata": {},
   "outputs": [],
   "source": [
    "\n",
    "# \n",
    "# 計算基因相似度\n",
    "# 使用R語言gosemsim計算\n",
    "# "
   ]
  },
  {
   "cell_type": "markdown",
   "metadata": {},
   "source": []
  },
  {
   "cell_type": "code",
   "execution_count": null,
   "metadata": {},
   "outputs": [],
   "source": [
    "\n",
    "_gosemsimCalculator = GosemsimCalculator()\n",
    "# 分群\n",
    "_geneCluster, silhouetteFig = _gosemsimCalculator.ClusterGoterm(_gosemsimDf, \"ward\", range(5, 51))\n",
    "# 合併資料\n",
    "_geneCluster = _geneFilter.IntersectData(_aucDf, _geneCluster, \"gene\")"
   ]
  },
  {
   "cell_type": "markdown",
   "metadata": {},
   "source": []
  },
  {
   "cell_type": "code",
   "execution_count": null,
   "metadata": {},
   "outputs": [],
   "source": [
    "\n",
    "# 挑選資料\n",
    "idx_max_dbeta = _geneCluster.groupby('cluster')['dbeta'].idxmax()\n",
    "idx_max_auc = _geneCluster.groupby('cluster')['auc'].idxmax()\n",
    "idx_max_F1 = _geneCluster.groupby('cluster')['F1'].idxmax()\n",
    "\n",
    "print(\"Dbeta Max:\")\n",
    "print(_geneCluster.loc[idx_max_dbeta])\n",
    "print(\"AUC Max:\")\n",
    "print(_geneCluster.loc[idx_max_auc])\n",
    "print(\"F1 Max:\")\n",
    "print(_geneCluster.loc[idx_max_F1])"
   ]
  }
 ],
 "metadata": {
  "language_info": {
   "name": "python"
  }
 },
 "nbformat": 4,
 "nbformat_minor": 2
}
